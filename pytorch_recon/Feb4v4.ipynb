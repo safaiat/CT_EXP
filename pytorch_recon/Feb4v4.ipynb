{
  "nbformat": 4,
  "nbformat_minor": 0,
  "metadata": {
    "colab": {
      "provenance": [],
      "gpuType": "T4",
      "authorship_tag": "ABX9TyNJ7vxWdq1LuL2XCrisGzCi",
      "include_colab_link": true
    },
    "kernelspec": {
      "name": "python3",
      "display_name": "Python 3"
    },
    "language_info": {
      "name": "python"
    },
    "accelerator": "GPU"
  },
  "cells": [
    {
      "cell_type": "markdown",
      "metadata": {
        "id": "view-in-github",
        "colab_type": "text"
      },
      "source": [
        "<a href=\"https://colab.research.google.com/github/safaiat/CT_EXP/blob/main/pytorch_recon/Feb4v4.ipynb\" target=\"_parent\"><img src=\"https://colab.research.google.com/assets/colab-badge.svg\" alt=\"Open In Colab\"/></a>"
      ]
    },
    {
      "cell_type": "code",
      "execution_count": 1,
      "metadata": {
        "colab": {
          "base_uri": "https://localhost:8080/"
        },
        "id": "Gk8ex8FjcpwK",
        "outputId": "d56852a8-a62c-4fe1-cf9e-0b4efdac5e3b"
      },
      "outputs": [
        {
          "output_type": "stream",
          "name": "stdout",
          "text": [
            "Starting forward projection\n",
            "Starting view block 1 of 10.\n",
            "Starting view block 2 of 10.\n",
            "Elapsed time: 116.12484455108643\n",
            "Sinogram shape: torch.Size([400, 1000, 1000])\n",
            "Used 2.67GB of 14.74GB total memory\n"
          ]
        }
      ],
      "source": [
        "import time\n",
        "import torch\n",
        "\n",
        "# Global variable to store sinogram data\n",
        "sinogram_output = None\n",
        "\n",
        "def set_sinogram_parameters():\n",
        "    # Specify sinogram info\n",
        "    num_views = 2000\n",
        "    num_det_rows = 1000\n",
        "    num_det_channels = 1000\n",
        "    return num_views, num_det_rows, num_det_channels\n",
        "\n",
        "@torch.compile\n",
        "def sparse_forward_project(voxel_values, indices, sinogram_shape, recon_shape, angles, output_device, worker):\n",
        "    \"\"\"\n",
        "    Batch the views (angles) and voxels/indices, send batches to the GPU to project, and collect the results.\n",
        "    \"\"\"\n",
        "    max_views = 200\n",
        "    max_pixels = 8000\n",
        "    num_to_exclude = 0\n",
        "\n",
        "    indices = indices[:len(indices)-num_to_exclude]\n",
        "    angles = angles.to(worker)\n",
        "\n",
        "    # Batch the views and pixels\n",
        "    num_views = len(angles)\n",
        "    view_batch_indices = torch.arange(start=0, end=num_views, step=max_views)\n",
        "    view_batch_indices = torch.concatenate([view_batch_indices, num_views * torch.ones(1, dtype=torch.int32)])\n",
        "\n",
        "    num_pixels = len(indices)\n",
        "    pixel_batch_indices = torch.arange(start=0, end=num_pixels, step=max_pixels)\n",
        "    pixel_batch_indices = torch.concatenate([pixel_batch_indices, num_pixels * torch.ones(1, dtype=torch.int32)])\n",
        "\n",
        "    # Create the output sinogram\n",
        "    sinogram = []\n",
        "\n",
        "    # Loop over the view batches\n",
        "    for j, view_index_start in enumerate(view_batch_indices[:2]):\n",
        "        view_index_end = view_batch_indices[j+1]\n",
        "        cur_view_batch = torch.zeros([view_index_end-view_index_start, sinogram_shape[1], sinogram_shape[2]], device=worker)\n",
        "        cur_view_params_batch = angles[view_index_start:view_index_end]\n",
        "\n",
        "        print('Starting view block {} of {}.'.format(j+1, view_batch_indices.shape[0]-1))\n",
        "\n",
        "        # Loop over pixel batches\n",
        "        for k, pixel_index_start in enumerate(pixel_batch_indices[:-1]):\n",
        "            pixel_index_end = pixel_batch_indices[k+1]\n",
        "            cur_voxel_batch = voxel_values[pixel_index_start:pixel_index_end].to(worker)\n",
        "            cur_index_batch = indices[pixel_index_start:pixel_index_end].to(worker)\n",
        "\n",
        "            def forward_project_pixel_batch_local(view, angle):\n",
        "                return forward_project_pixel_batch_to_one_view(cur_voxel_batch, cur_index_batch, angle, view, sinogram_shape, recon_shape)\n",
        "\n",
        "            view_map = torch.vmap(forward_project_pixel_batch_local)\n",
        "            cur_view_batch = view_map(cur_view_batch, cur_view_params_batch)\n",
        "\n",
        "        sinogram.append(cur_view_batch.to(output_device))\n",
        "    sinogram = torch.concatenate(sinogram)\n",
        "    return sinogram\n",
        "\n",
        "@torch.compile\n",
        "def forward_project_pixel_batch_to_one_view(voxel_values, pixel_indices, angle, sinogram_view, sinogram_shape, recon_shape):\n",
        "    num_views, num_det_rows, num_det_channels = sinogram_shape\n",
        "    psf_radius = 1\n",
        "    delta_voxel = 1\n",
        "\n",
        "    n_p, n_p_center, W_p_c, cos_alpha_p_xy = compute_proj_data(pixel_indices, angle, sinogram_shape, recon_shape)\n",
        "    L_max = torch.clip(W_p_c, None, 1)\n",
        "\n",
        "    for n_offset in torch.arange(start=-psf_radius, end=psf_radius+1):\n",
        "        n = n_p_center + n_offset\n",
        "        abs_delta_p_c_n = torch.abs(n_p - n)\n",
        "        L_p_c_n = torch.clamp((W_p_c + 1) / 2 - abs_delta_p_c_n, torch.zeros(1, device=torch.device('cuda')), L_max)\n",
        "        A_chan_n = delta_voxel * L_p_c_n / cos_alpha_p_xy\n",
        "        A_chan_n *= (n >= 0) * (n < num_det_channels)\n",
        "        n = torch.clip(n, 0, num_det_channels - 1)\n",
        "        update = A_chan_n.reshape((1, -1)) * voxel_values.T\n",
        "        indices = n.expand(num_det_rows, -1).type(torch.int64)\n",
        "        sinogram_view = sinogram_view.scatter_add(1, indices, update)\n",
        "\n",
        "    return sinogram_view\n",
        "\n",
        "def compute_proj_data(pixel_indices, angle, sinogram_shape, recon_shape):\n",
        "    cosine = torch.cos(angle)\n",
        "    sine = torch.sin(angle)\n",
        "\n",
        "    delta_voxel = 1.0\n",
        "    dvc = delta_voxel\n",
        "    dvs = delta_voxel\n",
        "    dvc *= cosine\n",
        "    dvs *= sine\n",
        "\n",
        "    num_views, num_det_rows, num_det_channels = sinogram_shape\n",
        "    row_index, col_index = torch.unravel_index(pixel_indices, recon_shape[:2])\n",
        "\n",
        "    y_tilde = dvs * (row_index - (recon_shape[0] - 1) / 2.0)\n",
        "    x_tilde = dvc * (col_index - (recon_shape[1] - 1) / 2.0)\n",
        "\n",
        "    x_p = x_tilde - y_tilde\n",
        "    det_center_channel = (num_det_channels - 1) / 2.0\n",
        "\n",
        "    n_p = x_p + det_center_channel\n",
        "    n_p_center = torch.round(n_p).type(torch.int32)\n",
        "\n",
        "    cos_alpha_p_xy = torch.maximum(torch.abs(cosine), torch.abs(sine))\n",
        "    W_p_c = cos_alpha_p_xy\n",
        "\n",
        "    proj_data = (n_p, n_p_center, W_p_c, cos_alpha_p_xy)\n",
        "\n",
        "    return proj_data\n",
        "\n",
        "def main():\n",
        "    \"\"\"\n",
        "    This is a script to develop, debug, and tune the parallel beam projector\n",
        "    \"\"\"\n",
        "    global sinogram  # Store sinogram globally for access in Jupyter\n",
        "\n",
        "    num_views, num_det_rows, num_det_channels = set_sinogram_parameters()\n",
        "    start_angle = 0\n",
        "    end_angle = torch.pi\n",
        "    sinogram_shape = (num_views, num_det_rows, num_det_channels)\n",
        "    step_size = (end_angle - start_angle) / num_views\n",
        "    angles = torch.linspace(start=start_angle, end=end_angle - step_size, steps=num_views)\n",
        "\n",
        "    output_device = torch.device(\"cpu\")\n",
        "    worker = torch.device(\"cuda\" if torch.cuda.is_available() else \"cpu\")\n",
        "\n",
        "    recon_shape = (num_det_channels, num_det_channels, num_det_rows)\n",
        "    num_recon_rows, num_recon_cols, num_recon_slices = recon_shape[:3]\n",
        "    phantom = torch.zeros(recon_shape, device=output_device)\n",
        "    i, j, k = recon_shape[0]//3, recon_shape[1]//2, recon_shape[2]//2\n",
        "    phantom[i:i+5, j:j+5, k:k+5] = 1.0\n",
        "\n",
        "    max_index_val = num_recon_rows * num_recon_cols\n",
        "    indices = torch.arange(max_index_val, dtype=torch.int32)\n",
        "    voxel_values = phantom.reshape((-1,) + recon_shape[2:])[indices]\n",
        "\n",
        "    print('Starting forward projection')\n",
        "    voxel_values.to(output_device)\n",
        "    indices.to(output_device)\n",
        "    t0 = time.time()\n",
        "    sinogram = sparse_forward_project(voxel_values, indices, sinogram_shape, recon_shape, angles, output_device=output_device, worker=worker)\n",
        "    print('Elapsed time:', time.time() - t0)\n",
        "\n",
        "    #sinogram_output = sinogram  # Store sinogram for Jupyter access\n",
        "\n",
        "    print('Sinogram shape:', sinogram.shape)\n",
        "    if torch.cuda.is_available():\n",
        "        device = torch.device('cuda:0')\n",
        "        free, total = torch.cuda.mem_get_info(device)\n",
        "        total_gb = total / (1024 ** 3)\n",
        "        free_gb = free / (1024 ** 3)\n",
        "        mem_used_gb = total_gb - free_gb\n",
        "        print('Used {:.2f}GB of {:.2f}GB total memory'.format(mem_used_gb, total_gb))\n",
        "\n",
        "if __name__ == \"__main__\":\n",
        "    main()\n"
      ]
    },
    {
      "cell_type": "code",
      "source": [
        "sinogram.shape"
      ],
      "metadata": {
        "colab": {
          "base_uri": "https://localhost:8080/"
        },
        "id": "7OLZwRBPcvBJ",
        "outputId": "96c4c32e-f2cf-4cd3-c0da-2161766f5cc6"
      },
      "execution_count": 2,
      "outputs": [
        {
          "output_type": "execute_result",
          "data": {
            "text/plain": [
              "torch.Size([400, 1000, 1000])"
            ]
          },
          "metadata": {},
          "execution_count": 2
        }
      ]
    },
    {
      "cell_type": "code",
      "source": [
        "import numpy as np\n",
        "import matplotlib.pyplot as plt\n",
        "\n",
        "# Ensure sinogram is on CPU and convert to numpy\n",
        "sinogram_numpy = sinogram.cpu().numpy() if 'sinogram' in globals() and sinogram is not None else None\n",
        "\n",
        "if sinogram_numpy is not None:\n",
        "    # Select a specific detector row (middle row)\n",
        "    row_index = sinogram_numpy.shape[1] // 2  # Middle row\n",
        "\n",
        "    # Extract data across all views and channels for the selected row\n",
        "    channel_view_trace = sinogram_numpy[:, row_index, :]\n",
        "\n",
        "    # Plot the sinusoidal trace of the channel view\n",
        "    plt.figure(figsize=(10, 6))\n",
        "    plt.imshow(channel_view_trace, cmap='gray', aspect='auto', extent=[0, channel_view_trace.shape[1], 0, channel_view_trace.shape[0]])\n",
        "    plt.colorbar(label=\"X-ray Intensity\")\n",
        "    plt.title(\"Sinogram - Sinusoidal Trace in Channel View Dimension\")\n",
        "    plt.xlabel(\"Detector Channels\")\n",
        "    plt.ylabel(\"Projection Views (Angles)\")\n",
        "    plt.show()\n",
        "\n",
        "else:\n",
        "    print(\"Sinogram data is not available. Please ensure the main function has been executed.\")"
      ],
      "metadata": {
        "colab": {
          "base_uri": "https://localhost:8080/",
          "height": 564
        },
        "id": "ZNpDiYHEc2LD",
        "outputId": "6e83f752-6aab-4ec7-d9c7-38993d1d4cd1"
      },
      "execution_count": 3,
      "outputs": [
        {
          "output_type": "display_data",
          "data": {
            "text/plain": [
              "<Figure size 1000x600 with 2 Axes>"
            ],
            "image/png": "[encoded data removed]"
          },
          "metadata": {}
        }
      ]
    },
    {
      "cell_type": "code",
      "source": [
        "import cv2\n",
        "import numpy as np\n",
        "\n",
        "# Ensure sinogram is on CPU and convert to numpy\n",
        "sinogram_numpy = sinogram.cpu().numpy() if 'sinogram' in globals() and sinogram is not None else None\n",
        "\n",
        "if sinogram_numpy is not None:\n",
        "    # Video parameters\n",
        "    num_views, num_rows, num_channels = sinogram_numpy.shape\n",
        "    fps = 30  # Frames per second\n",
        "    video_filename = \"sinogram_channel_row.mp4\"\n",
        "\n",
        "    # Define the video writer\n",
        "    fourcc = cv2.VideoWriter_fourcc(*'mp4v')  # Codec for .mp4 format\n",
        "    video_writer = cv2.VideoWriter(video_filename, fourcc, fps, (num_channels, num_rows), isColor=False)\n",
        "\n",
        "    # Normalize the sinogram data for better visualization (scale to 8-bit grayscale)\n",
        "    normalized_sinogram = cv2.normalize(sinogram_numpy, None, 0, 255, cv2.NORM_MINMAX)\n",
        "    normalized_sinogram = normalized_sinogram.astype(np.uint8)\n",
        "\n",
        "    # Generate frames over projection views\n",
        "    for i in range(num_views):\n",
        "        frame = normalized_sinogram[i]  # Take each projection as a frame\n",
        "        video_writer.write(frame)  # Write the frame to the video\n",
        "\n",
        "    # Release the video writer\n",
        "    video_writer.release()\n",
        "\n",
        "    # Provide download link\n",
        "    print(f\"Video saved successfully: {video_filename}\")\n",
        "\n",
        "else:\n",
        "    print(\"Sinogram data is not available. Please ensure the main function has been executed.\")"
      ],
      "metadata": {
        "colab": {
          "base_uri": "https://localhost:8080/"
        },
        "id": "kimh4QIEc-wq",
        "outputId": "976908bf-323c-4f19-b1dc-54c5a9332f43"
      },
      "execution_count": 4,
      "outputs": [
        {
          "output_type": "stream",
          "name": "stdout",
          "text": [
            "Video saved successfully: sinogram_channel_row.mp4\n"
          ]
        }
      ]
    },
    {
      "cell_type": "code",
      "source": [
        "import os\n",
        "import cv2\n",
        "\n",
        "# Ensure sinogram is available before saving images\n",
        "if 'sinogram' in globals() and sinogram is not None:\n",
        "    # Convert sinogram to numpy and move to CPU if necessary\n",
        "    sinogram_numpy = sinogram.cpu().numpy()\n",
        "\n",
        "    # Define output directory for the dataset\n",
        "    dataset_dir = \"xray_dataset\"\n",
        "    os.makedirs(dataset_dir, exist_ok=True)\n",
        "\n",
        "    # Normalize sinogram for better visualization (convert to 8-bit image format)\n",
        "    normalized_sinogram = cv2.normalize(sinogram_numpy, None, 0, 255, cv2.NORM_MINMAX)\n",
        "    normalized_sinogram = normalized_sinogram.astype(np.uint8)\n",
        "\n",
        "    # Save each X-ray projection as an individual PNG file\n",
        "    num_projections = normalized_sinogram.shape[0]\n",
        "    for i in range(num_projections):\n",
        "        filename = os.path.join(dataset_dir, f\"xray_projection_{i:03d}.png\")\n",
        "        cv2.imwrite(filename, normalized_sinogram[i])\n",
        "\n",
        "    print(f\"Dataset created successfully! {num_projections} X-ray images saved in: {dataset_dir}\")\n",
        "\n",
        "else:\n",
        "    print(\"Sinogram data is not available. Please ensure the main function has been executed.\")"
      ],
      "metadata": {
        "colab": {
          "base_uri": "https://localhost:8080/"
        },
        "id": "kfILk8-AdFWg",
        "outputId": "51192bc2-f660-4b8c-d73b-027a7eca3d33"
      },
      "execution_count": 5,
      "outputs": [
        {
          "output_type": "stream",
          "name": "stdout",
          "text": [
            "Dataset created successfully! 400 X-ray images saved in: xray_dataset\n"
          ]
        }
      ]
    }
  ]
}
{
 "cells": [
  {
   "cell_type": "code",
   "execution_count": 2,
   "metadata": {},
   "outputs": [
    {
     "name": "stdout",
     "output_type": "stream",
     "text": [
      "Video saved as sinogram_video.mp4\n"
     ]
    }
   ],
   "source": [
    "import numpy as np\n",
    "import cv2\n",
    "import os\n",
    "\n",
    "# Load sinogram data from .npz file\n",
    "npz_file = \"/Users/safaiathossain/PHD Research/CT_Recon/xray_dataset/xray_projections.npz\"  # Update path if needed\n",
    "data = np.load(npz_file)\n",
    "sinogram = data['sinogram']  # Shape: (num_views, num_det_rows, num_det_channels)\n",
    "\n",
    "# Define output video file\n",
    "output_video = \"sinogram_video.mp4\"\n",
    "\n",
    "# Get dimensions\n",
    "num_views, height, width = sinogram.shape\n",
    "\n",
    "# Define the video codec and create VideoWriter object\n",
    "fourcc = cv2.VideoWriter_fourcc(*'mp4v')  # Codec for .mp4 format\n",
    "fps = 10  # Frames per second\n",
    "video_writer = cv2.VideoWriter(output_video, fourcc, fps, (width, height))\n",
    "\n",
    "# Normalize sinogram values to 0-255 for visualization\n",
    "sinogram_norm = (sinogram - sinogram.min()) / (sinogram.max() - sinogram.min()) * 255\n",
    "sinogram_norm = sinogram_norm.astype(np.uint8)\n",
    "\n",
    "# Write frames to video\n",
    "for i in range(num_views):\n",
    "    frame = sinogram_norm[i]  # Extract sinogram slice\n",
    "    frame_colored = cv2.cvtColor(frame, cv2.COLOR_GRAY2BGR)  # Convert grayscale to 3-channel\n",
    "    video_writer.write(frame_colored)\n",
    "\n",
    "# Release the video writer\n",
    "video_writer.release()\n",
    "\n",
    "print(f\"Video saved as {output_video}\")\n"
   ]
  }
 ],
 "metadata": {
  "kernelspec": {
   "display_name": "ct_recon",
   "language": "python",
   "name": "python3"
  },
  "language_info": {
   "codemirror_mode": {
    "name": "ipython",
    "version": 3
   },
   "file_extension": ".py",
   "mimetype": "text/x-python",
   "name": "python",
   "nbconvert_exporter": "python",
   "pygments_lexer": "ipython3",
   "version": "3.13.2"
  }
 },
 "nbformat": 4,
 "nbformat_minor": 2
}

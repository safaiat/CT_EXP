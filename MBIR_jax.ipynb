import numpy as np
import jax
import jax.numpy as jnp
import mbirjax
import matplotlib.pyplot as plt

# Define parameters for sinogram
num_views = 64
num_det_rows = 40
num_det_channels = 128
geometry_type = 'parallel'

# Define projection angles
start_angle = -np.pi / 2
end_angle = np.pi / 2
angles = jnp.linspace(start_angle, end_angle, num_views, endpoint=False)

# Initialize MBIR-JAX model
sinogram_shape = (num_views, num_det_rows, num_det_channels)
ct_model = mbirjax.ParallelBeamModel(sinogram_shape, angles)

# Generate Shepp-Logan phantom
print("Generating Phantom (x)...")
true_image = ct_model.gen_modified_3d_sl_phantom()

# Compute forward projection (A*x = y)
print("Computing Sinogram (y = A*x)...")
y = ct_model.forward_project(true_image)  # Forward projection, Ax



# **MBIR-Based Iterative Reconstruction**
num_iterations = 2000  # Iteration count
learning_rate = 0.1  # Learning rate

# Initialize reconstructed image with zeros
x = jnp.zeros_like(true_image)

print("Starting MBIR Reconstruction...")
for i in range(num_iterations):
    Ax = ct_model.forward_project(x)  # Compute Ax (forward projection)
    residual = y - Ax  # Compute (y - Ax)

    # Compute loss ||y - Ax||^2
    loss = jnp.linalg.norm(residual) ** 2

    # Compute gradient: Aᵀ(y - Ax) (back-projection step)
    gradient = ct_model.back_project(residual)

    # Normalize gradient to avoid large updates
    gradient = gradient / (jnp.max(jnp.abs(gradient)) + 1e-6)

    # Adaptive step size to avoid divergence
    step_size = learning_rate / (jnp.linalg.norm(gradient) + 1e-6)

    # Update x using gradient descent
    x = x + step_size * gradient

    # Print loss every 10 iterations
    if i % 10 == 0:
        print(f"Iteration {i}: Loss = {loss:.6f}")

# Convert to NumPy for visualization
mbir_reconstruction = np.array(x)

# Display Results
plt.figure(figsize=(12, 6))
plt.subplot(1, 2, 1)
plt.imshow(true_image[:, :, true_image.shape[2] // 2], cmap='gray')
plt.title("Ground Truth (Phantom)")
plt.axis("off")

plt.subplot(1, 2, 2)
plt.imshow(mbir_reconstruction[:, :, mbir_reconstruction.shape[2] // 2], cmap='gray')
plt.title("MBIR Reconstruction")
plt.axis("off")

plt.show()

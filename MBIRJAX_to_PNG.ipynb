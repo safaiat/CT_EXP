{
 "cells": [
  {
   "cell_type": "code",
   "execution_count": 1,
   "metadata": {},
   "outputs": [],
   "source": [
    "import numpy as np\n",
    "import jax.numpy as jnp\n",
    "import mbirjax\n",
    "import os\n",
    "import matplotlib.pyplot as plt"
   ]
  },
  {
   "cell_type": "code",
   "execution_count": 1,
   "metadata": {},
   "outputs": [
    {
     "name": "stdout",
     "output_type": "stream",
     "text": [
      "Estimated memory required = 0.183GB full, 0.012GB update\n",
      "Using TFRT_CPU_0 for main memory, TFRT_CPU_0 as worker.\n",
      "views_per_batch = 256; pixels_per_batch = 2048\n",
      "Generating Shepp-Logan phantom...\n",
      "Generating sinogram...\n",
      "X-ray projections saved as PNG images in xray_dataset/png_projections\n",
      "Dataset loaded successfully.\n",
      "Sinogram shape: (64, 40, 128)\n",
      "Angles shape: (64,)\n"
     ]
    }
   ],
   "source": [
    "import numpy as np\n",
    "import jax.numpy as jnp\n",
    "import mbirjax\n",
    "import os\n",
    "import matplotlib.pyplot as plt\n",
    "\n",
    "# Define dataset directory\n",
    "output_dir = \"xray_dataset\"\n",
    "os.makedirs(output_dir, exist_ok=True)\n",
    "\n",
    "# Choose the geometry type\n",
    "geometry_type = 'parallel'  # 'cone' or 'parallel'\n",
    "\n",
    "# Set parameters for the problem size\n",
    "num_views = 64\n",
    "num_det_rows = 40\n",
    "num_det_channels = 128\n",
    "\n",
    "# Set angles for projections\n",
    "start_angle = -np.pi / 2\n",
    "end_angle = np.pi / 2\n",
    "angles = jnp.linspace(start_angle, end_angle, num_views, endpoint=False)\n",
    "\n",
    "# Initialize the CT model\n",
    "if geometry_type == 'parallel':\n",
    "    ct_model = mbirjax.ParallelBeamModel((num_views, num_det_rows, num_det_channels), angles)\n",
    "elif geometry_type == 'cone':\n",
    "    source_detector_dist = 4 * num_det_channels\n",
    "    source_iso_dist = source_detector_dist\n",
    "    ct_model = mbirjax.ConeBeamModel((num_views, num_det_rows, num_det_channels), angles, source_detector_dist, source_iso_dist)\n",
    "else:\n",
    "    raise ValueError('Invalid geometry type')\n",
    "\n",
    "# Generate 3D Shepp-Logan phantom\n",
    "print(\"Generating Shepp-Logan phantom...\")\n",
    "phantom = ct_model.gen_modified_3d_sl_phantom()\n",
    "\n",
    "# Generate synthetic sinogram (X-ray projections)\n",
    "print(\"Generating sinogram...\")\n",
    "sinogram = ct_model.forward_project(phantom)\n",
    "sinogram = np.array(sinogram)\n",
    "\n",
    "\n",
    "# Save sinogram as PNG images\n",
    "png_dir = os.path.join(output_dir, \"png_projections\")\n",
    "os.makedirs(png_dir, exist_ok=True)\n",
    "\n",
    "for i in range(num_views):\n",
    "    plt.imshow(sinogram[i], cmap='gray', aspect='auto')\n",
    "    plt.axis('off')\n",
    "    plt.savefig(os.path.join(png_dir, f\"projection_{i:03d}.png\"), bbox_inches='tight', pad_inches=0)\n",
    "    plt.close()\n",
    "\n",
    "print(f\"X-ray projections saved as PNG images in {png_dir}\")\n",
    "\n",
    "# Load the dataset for verification\n",
    "data = np.load(os.path.join(output_dir, \"xray_projections.npz\"))\n",
    "loaded_sinogram = data['sinogram']\n",
    "loaded_angles = data['angles']\n",
    "print(\"Dataset loaded successfully.\")\n",
    "print(\"Sinogram shape:\", loaded_sinogram.shape)\n",
    "print(\"Angles shape:\", loaded_angles.shape)\n"
   ]
  }
 ],
 "metadata": {
  "kernelspec": {
   "display_name": "ct_recon",
   "language": "python",
   "name": "python3"
  },
  "language_info": {
   "codemirror_mode": {
    "name": "ipython",
    "version": 3
   },
   "file_extension": ".py",
   "mimetype": "text/x-python",
   "name": "python",
   "nbconvert_exporter": "python",
   "pygments_lexer": "ipython3",
   "version": "3.13.2"
  }
 },
 "nbformat": 4,
 "nbformat_minor": 2
}

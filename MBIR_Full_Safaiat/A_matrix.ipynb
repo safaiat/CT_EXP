{
  "nbformat": 4,
  "nbformat_minor": 0,
  "metadata": {
    "colab": {
      "provenance": [],
      "authorship_tag": "ABX9TyOxF6RFWOV0YqY71OHVD956",
      "include_colab_link": true
    },
    "kernelspec": {
      "name": "python3",
      "display_name": "Python 3"
    },
    "language_info": {
      "name": "python"
    }
  },
  "cells": [
    {
      "cell_type": "markdown",
      "metadata": {
        "id": "view-in-github",
        "colab_type": "text"
      },
      "source": [
        "<a href=\"https://colab.research.google.com/github/safaiat/CT_EXP/blob/main/MBIR_Full_Safaiat/A_matrix.ipynb\" target=\"_parent\"><img src=\"https://colab.research.google.com/assets/colab-badge.svg\" alt=\"Open In Colab\"/></a>"
      ]
    },
    {
      "cell_type": "code",
      "source": [
        "import torch\n",
        "import math\n",
        "import numpy as np\n",
        "import matplotlib.pyplot as plt"
      ],
      "metadata": {
        "id": "vIZ0qNDY1vgB"
      },
      "execution_count": 1,
      "outputs": []
    },
    {
      "cell_type": "code",
      "execution_count": 2,
      "metadata": {
        "id": "Qt0DmoX8BWby"
      },
      "outputs": [],
      "source": [
        "import math\n",
        "\n",
        "def build_params():\n",
        "\n",
        "\n",
        "  imgparams = {\n",
        "\n",
        "\n",
        "  \"Nx\": 256,                 # pixels in X\n",
        "  \"Ny\": 256,                 # pixels in Y\n",
        "  \"Nz\": 1,                   # slices\n",
        "  \"FirstSliceNumber\": 0,     #\n",
        "  \"Deltaxy\": 1.0,            # pixel size, mm\n",
        "  \"DeltaZ\": 1.0,             # mm\n",
        "  \"ROIRadius\": 128.0\n",
        "\n",
        "  }\n",
        "\n",
        "  sinoparams = {\n",
        "      \"NViews\": 64,             # number of projection angles\n",
        "      \"NChannels\": 512,          # detector bins\n",
        "      \"NSlices\": 1,              # slices\n",
        "      \"FirstSliceNumber\": 0,     # slice index\n",
        "      \"DeltaChannel\": 1.0,       # mm,\n",
        "      \"CenterOffset\": 0.0,       # detector center shift in bins\n",
        "      \"DeltaSlice\": 1.0,         # mm, slice spacing (dummy=1 for 2D)\n",
        "      \"ViewAngles\": []\n",
        "\n",
        "\n",
        "  }\n",
        "\n",
        "\n",
        "  step_size = math.pi / sinoparams[\"NViews\"]\n",
        "\n",
        "  for i in range(sinoparams[\"NViews\"]):\n",
        "    sinoparams[\"ViewAngles\"].append(i * step_size)\n",
        "\n",
        "\n",
        "\n",
        "  return imgparams, sinoparams\n",
        "\n",
        "\n"
      ]
    },
    {
      "cell_type": "code",
      "source": [
        "imgparams, sinoparams = build_params()\n",
        "LEN_PIX =511"
      ],
      "metadata": {
        "id": "Zvw9GMadpMSD"
      },
      "execution_count": 3,
      "outputs": []
    },
    {
      "cell_type": "code",
      "source": [
        "def pixel_center_from_index(j, imgparams):\n",
        "\n",
        "    Nx = imgparams[\"Nx\"]\n",
        "    Ny = imgparams[\"Ny\"]\n",
        "    dxy = imgparams[\"Deltaxy\"]\n",
        "\n",
        "    # 1) Unflatten j -> (jx, jy), that means convert j into x,y\n",
        "    jx = j % Nx\n",
        "    jy = j // Nx\n",
        "\n",
        "    # 2) Convert to physical coordinates (mm), origin at image center\n",
        "    x = (jx - (Nx - 1) / 2.0) * dxy\n",
        "    y = (jy - (Ny - 1) / 2.0) * dxy\n",
        "\n",
        "    return x, y\n",
        "\n",
        "\n",
        "\n"
      ],
      "metadata": {
        "id": "i1lpyBWWEdG-"
      },
      "execution_count": 4,
      "outputs": []
    },
    {
      "cell_type": "code",
      "source": [
        "def detector_centers(sinoparams):\n",
        "\n",
        "    N = sinoparams[\"NChannels\"]\n",
        "    d = sinoparams[\"DeltaChannel\"]\n",
        "    off = sinoparams[\"CenterOffset\"]\n",
        "\n",
        "\n",
        "    t_centers = [(i - ((N - 1) / 2.0) - off) * d for i in range(N)]\n",
        "    return t_centers"
      ],
      "metadata": {
        "id": "X0zmQg0UajNv"
      },
      "execution_count": 5,
      "outputs": []
    },
    {
      "cell_type": "code",
      "source": [
        "import torch, math\n",
        "\n",
        "def ComputePixelProfile3DParallel(sinoparams, imgparams, LEN_PIX, device=None, dtype=None):\n",
        "\n",
        "\n",
        "    # ---- device/dtype defaults ----\n",
        "    if device is None:\n",
        "        device = torch.device(\"cuda\" if torch.cuda.is_available() else \"cpu\")\n",
        "    if dtype is None:\n",
        "        dtype = torch.float32\n",
        "\n",
        "    # ---- allocate output; mirror \"get_img(LEN_PIX, NViews, sizeof(float))\" ----\n",
        "    NViews = int(sinoparams[\"NViews\"])\n",
        "    pix_prof = torch.zeros((NViews, int(LEN_PIX)), dtype=dtype, device=device)\n",
        "\n",
        "    # ---- copy C variable names/logic exactly ----\n",
        "    pi = math.pi                                   # PI\n",
        "    rc = math.sin(pi/4.0)                          # sin(pi/4)\n",
        "    DeltaPix = float(imgparams[\"Deltaxy\"])         # pixel size\n",
        "    # NOTE: we read angles from sinoparams[\"ViewAngles\"] like the C code\n",
        "\n",
        "    for i in range(NViews):\n",
        "        ang = float(sinoparams[\"ViewAngles\"][i])   # ang = sinoparams->ViewAngles[i]\n",
        "\n",
        "        # while (ang >= pi/2) ang -= pi/2; while (ang < 0) ang += pi/2;\n",
        "        while ang >= pi/2.0:\n",
        "            ang -= pi/2.0\n",
        "        while ang < 0.0:\n",
        "            ang += pi/2.0\n",
        "\n",
        "        # if (ang <= pi/4) maxval = DeltaPix/cos(ang); else maxval = DeltaPix/cos(pi/2-ang);\n",
        "        if ang <= pi/4.0:\n",
        "            maxval = DeltaPix / max(math.cos(ang), 1e-12)\n",
        "        else:\n",
        "            maxval = DeltaPix / max(math.cos(pi/2.0 - ang), 1e-12)\n",
        "\n",
        "        # d1 = rc*cos(pi/4 - ang);  d2 = rc*fabs(sin(pi/4 - ang));\n",
        "        d1 = rc * math.cos(pi/4.0 - ang)\n",
        "        d2 = rc * abs(math.sin(pi/4.0 - ang))\n",
        "\n",
        "        # this is for the centering to the pixel profile which is [0,2] later it will be adjusted but the grid is 2 unit long.\n",
        "        t_1 = 1.0 - d1\n",
        "        t_2 = 1.0 - d2\n",
        "        t_3 = 1.0 + d2\n",
        "        t_4 = 1.0 + d1\n",
        "\n",
        "        # for (j=0; j<LEN_PIX; j++) { t = 2.0*j/(float)LEN_PIX; ... }\n",
        "        for j in range(LEN_PIX):\n",
        "            t = 2.0 * j / float(LEN_PIX)\n",
        "\n",
        "            if (t <= t_1) or (t > t_4):\n",
        "                val = 0.0\n",
        "            elif t <= t_2:\n",
        "                denom = (t_2 - t_1) if (t_2 - t_1) != 0.0 else 1e-12\n",
        "                val = maxval * (t - t_1) / denom\n",
        "            elif t <= t_3:\n",
        "                val = maxval\n",
        "            else:\n",
        "                denom = (t_4 - t_3) if (t_4 - t_3) != 0.0 else 1e-12\n",
        "                val = maxval * (t_4 - t) / denom\n",
        "\n",
        "            pix_prof[i, j] = val\n",
        "\n",
        "    return pix_prof\n"
      ],
      "metadata": {
        "id": "D70_bQ3Hi7qg"
      },
      "execution_count": 6,
      "outputs": []
    },
    {
      "cell_type": "code",
      "source": [
        "#this detects where the center of the pixel casts shadow in the detector pixel in mm\n",
        "\n",
        "def channel_window_for_pixel(x, y, theta, DeltaPix, t0, DeltaChannel, NChannels):\n",
        "\n",
        "    s0 = y*math.cos(theta) - x*math.sin(theta)  # pixel projection center (mm)\n",
        "\n",
        "    # Support of the footprint is within s0 ± DeltaPix\n",
        "    t_min = s0 - DeltaPix\n",
        "    t_max = s0 + DeltaPix\n",
        "\n",
        "    # Convert to bin indices; include half-bin extent with ±0.5\n",
        "    i_min = math.ceil((t_min - t0) / DeltaChannel - 0.5)\n",
        "    i_max = math.floor((t_max - t0) / DeltaChannel + 0.5)\n",
        "\n",
        "    # Clamp to valid range\n",
        "    i_min = max(i_min, 0)\n",
        "    i_max = min(i_max, NChannels - 1)\n",
        "    #i_min and i_max are the maximum and minimum shadow range and and s0 is the center of the pixel shadow on the detector bin\n",
        "\n",
        "    return i_min, i_max, s0\n"
      ],
      "metadata": {
        "id": "RGoZ1ptvzLxw"
      },
      "execution_count": 7,
      "outputs": []
    },
    {
      "cell_type": "code",
      "source": [
        "#this converts the mm into to exact detector pixel number\n",
        "def profile_index_for_channel(t_i, s0, DeltaPix, LEN_PIX):\n",
        "\n",
        "    # ((t_i - s0) + DeltaPix) / (2*DeltaPix) maps [-Δpix, +Δpix] -> [0, 1]\n",
        "    # Multiply by (LEN_PIX - 1) to get index range, then round to nearest\n",
        "    u_float = ((t_i - s0) + DeltaPix) * (LEN_PIX - 1) / (2.0 * DeltaPix)\n",
        "    u = int(math.floor(u_float + 0.5))\n",
        "    # Clip\n",
        "    if u < 0:\n",
        "        u = 0\n",
        "    elif u >= LEN_PIX:\n",
        "        u = LEN_PIX - 1\n",
        "    return u\n"
      ],
      "metadata": {
        "id": "Dc0KmU2afka5"
      },
      "execution_count": 8,
      "outputs": []
    },
    {
      "cell_type": "code",
      "source": [
        "\n",
        "#Given the view (angle) and detector element position (mapped to u_idx), return the trapezoid footprint weight for that pixel.\n",
        "def sample_profile(pix_prof, view_idx, u_idx):\n",
        "    return float(pix_prof[view_idx, u_idx].item())\n"
      ],
      "metadata": {
        "id": "L5WDb3kPgFgy"
      },
      "execution_count": 9,
      "outputs": []
    },
    {
      "cell_type": "code",
      "source": [
        "#creates sparese matreix column\n",
        "def compute_sysmatrix_column(j, imgparams, sinoparams, pix_prof, t_centers, LEN_PIX):\n",
        "\n",
        "    Nx = imgparams[\"Nx\"]; Ny = imgparams[\"Ny\"]; DeltaPix = imgparams[\"Deltaxy\"]\n",
        "    NViews = sinoparams[\"NViews\"]; NChannels = sinoparams[\"NChannels\"]\n",
        "    DeltaChannel = sinoparams[\"DeltaChannel\"]\n",
        "    ViewAngles = sinoparams[\"ViewAngles\"]\n",
        "    t0 = t_centers[0]\n",
        "\n",
        "    # 1) pixel center\n",
        "    x, y = pixel_center_from_index(j, imgparams)\n",
        "\n",
        "    rows, vals = [], []\n",
        "\n",
        "    # 2) loop views\n",
        "    for p in range(NViews):\n",
        "        theta = ViewAngles[p]\n",
        "\n",
        "        # window of potentially nonzero bins + s0\n",
        "        i_min, i_max, s0 = channel_window_for_pixel(\n",
        "            x, y, theta, DeltaPix, t0, DeltaChannel, NChannels\n",
        "        )\n",
        "        if i_min > i_max:\n",
        "            continue\n",
        "\n",
        "        # 3) loop only bins in the window\n",
        "        for i in range(i_min, i_max + 1):\n",
        "            u = profile_index_for_channel(t_centers[i], s0, DeltaPix, LEN_PIX)\n",
        "            w = sample_profile(pix_prof, p, u)  # simple mode\n",
        "\n",
        "            if w > 0.0:\n",
        "                rows.append(p * NChannels + i)\n",
        "                vals.append(w)\n",
        "\n",
        "    return rows, vals\n"
      ],
      "metadata": {
        "id": "SYG-QdY2hnDx"
      },
      "execution_count": 10,
      "outputs": []
    },
    {
      "cell_type": "code",
      "source": [
        "from tqdm import tqdm   # add this at the top of your file\n",
        "\n",
        "# assembles A-matrix\n",
        "def assemble_sysmatrix(imgparams, sinoparams, LEN_PIX):\n",
        "\n",
        "    # Precompute detector centers and per-view profiles\n",
        "    t_centers = detector_centers(sinoparams)\n",
        "    pix_prof = ComputePixelProfile3DParallel(sinoparams, imgparams, LEN_PIX=LEN_PIX)\n",
        "\n",
        "    Nx = imgparams[\"Nx\"]; Ny = imgparams[\"Ny\"]\n",
        "    Ncols = Nx * Ny\n",
        "    columns = [None] * Ncols\n",
        "\n",
        "    # wrap range(Ncols) with tqdm to track loop progress\n",
        "    for j in tqdm(range(Ncols), desc=\"Building system matrix\", unit=\"col\"):\n",
        "        rows, vals = compute_sysmatrix_column(\n",
        "            j, imgparams, sinoparams, pix_prof, t_centers, LEN_PIX\n",
        "        )\n",
        "        columns[j] = {\"row_idx\": rows, \"val\": vals}\n",
        "\n",
        "    return {\"Ncolumns\": Ncols, \"columns\": columns}\n",
        "\n"
      ],
      "metadata": {
        "id": "6BDnl3kum8gF"
      },
      "execution_count": 11,
      "outputs": []
    },
    {
      "cell_type": "code",
      "source": [
        "import numpy as np\n",
        "import json\n",
        "import os\n",
        "\n",
        "def save_sysmatrix(A, imgparams, sinoparams, path):\n",
        "\n",
        "\n",
        "    Ncols = A[\"Ncolumns\"]\n",
        "\n",
        "    indptr = np.zeros(Ncols + 1, dtype=np.int64)\n",
        "    indices = []\n",
        "    data = []\n",
        "\n",
        "    nnz = 0\n",
        "    for j in range(Ncols):\n",
        "        rows = A[\"columns\"][j][\"row_idx\"]\n",
        "        vals = A[\"columns\"][j][\"val\"]\n",
        "\n",
        "        indptr[j] = nnz\n",
        "        indices.extend(rows)\n",
        "        data.extend(vals)\n",
        "        nnz += len(rows)\n",
        "\n",
        "    indptr[Ncols] = nnz\n",
        "\n",
        "    # Save CSC arrays\n",
        "    np.savez_compressed(\n",
        "        path + \"_sysmat.npz\",\n",
        "        indptr=indptr,\n",
        "        indices=np.array(indices, dtype=np.int32),\n",
        "        data=np.array(data, dtype=np.float32)\n",
        "    )\n",
        "\n",
        "    # Save metadata\n",
        "    meta = {\n",
        "        \"imgparams\": imgparams,\n",
        "        \"sinoparams\": {\n",
        "            \"NViews\": sinoparams[\"NViews\"],\n",
        "            \"NChannels\": sinoparams[\"NChannels\"],\n",
        "            \"DeltaChannel\": sinoparams[\"DeltaChannel\"],\n",
        "            \"CenterOffset\": sinoparams[\"CenterOffset\"],\n",
        "            \"ViewAngles\": sinoparams[\"ViewAngles\"]  # may be big\n",
        "        },\n",
        "        \"row_encoding\": \"row = view * NChannels + channel\",\n",
        "        \"Ncolumns\": Ncols,\n",
        "        \"Nrows\": sinoparams[\"NViews\"] * sinoparams[\"NChannels\"]\n",
        "    }\n",
        "\n",
        "    with open(path + \"_meta.json\", \"w\") as f:\n",
        "        json.dump(meta, f, indent=2)\n",
        "\n",
        "    print(f\"Saved matrix with {nnz} nonzeros to {path}_sysmat.npz\")\n",
        "    print(f\"Metadata written to {path}_meta.json\")\n"
      ],
      "metadata": {
        "id": "-1uarHkHnJAO"
      },
      "execution_count": 12,
      "outputs": []
    },
    {
      "cell_type": "code",
      "source": [
        "# Assemble A\n",
        "A = assemble_sysmatrix(imgparams, sinoparams, LEN_PIX)\n",
        "\n",
        "# Save to disk\n",
        "save_sysmatrix(A, imgparams, sinoparams, \"my_sysmatrix\")\n"
      ],
      "metadata": {
        "colab": {
          "base_uri": "https://localhost:8080/"
        },
        "id": "IQlmf5QLnUNz",
        "outputId": "3fe94472-7ebe-483d-ac19-a0b173f44ce3"
      },
      "execution_count": 13,
      "outputs": [
        {
          "output_type": "stream",
          "name": "stderr",
          "text": [
            "Building system matrix: 100%|██████████| 65536/65536 [01:58<00:00, 555.05col/s]\n"
          ]
        },
        {
          "output_type": "stream",
          "name": "stdout",
          "text": [
            "Saved matrix with 5347526 nonzeros to my_sysmatrix_sysmat.npz\n",
            "Metadata written to my_sysmatrix_meta.json\n"
          ]
        }
      ]
    },
    {
      "cell_type": "code",
      "source": [],
      "metadata": {
        "id": "pZx2A_hbncbr"
      },
      "execution_count": 13,
      "outputs": []
    }
  ]
}